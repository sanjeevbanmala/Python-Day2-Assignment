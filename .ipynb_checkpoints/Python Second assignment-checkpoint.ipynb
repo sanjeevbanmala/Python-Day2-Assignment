{
 "cells": [
  {
   "cell_type": "markdown",
   "id": "0cb98c85",
   "metadata": {},
   "source": [
    "# Day 2 Assignment\n"
   ]
  },
  {
   "cell_type": "markdown",
   "id": "6748f2b4",
   "metadata": {},
   "source": [
    "### 1. Create generator with and without comprehension for getting multiples of given number upto 10"
   ]
  },
  {
   "cell_type": "code",
   "execution_count": 11,
   "id": "11a4e4f5",
   "metadata": {},
   "outputs": [
    {
     "name": "stdout",
     "output_type": "stream",
     "text": [
      "5 10 15 20 25 30 35 40 45 50 "
     ]
    },
    {
     "data": {
      "text/plain": [
       "<generator object multiples at 0x000002807F718AC0>"
      ]
     },
     "execution_count": 11,
     "metadata": {},
     "output_type": "execute_result"
    }
   ],
   "source": [
    "# creating a generator without comprehension\n",
    "def multiples(m):\n",
    "    i=1\n",
    "    while(i<=11):\n",
    "        yield i*m\n",
    "        i+=1\n",
    "        if(i>=11): \n",
    "            return\n",
    "\n",
    "\n",
    "a=multiples(5)\n",
    "for x in a:\n",
    "    print(x , end =\" \")\n",
    "a # checking that it is a generator object"
   ]
  },
  {
   "cell_type": "code",
   "execution_count": 13,
   "id": "8602f8e1",
   "metadata": {},
   "outputs": [
    {
     "name": "stdout",
     "output_type": "stream",
     "text": [
      "5 10 15 20 25 30 35 40 45 50 "
     ]
    },
    {
     "data": {
      "text/plain": [
       "<generator object multiplec.<locals>.<genexpr> at 0x000002807F718C80>"
      ]
     },
     "execution_count": 13,
     "metadata": {},
     "output_type": "execute_result"
    }
   ],
   "source": [
    "# creating a generator with comprehension\n",
    "def multiplec(m):\n",
    "    return (x*m for x in range(1,11))\n",
    "for i in multiplec(5):\n",
    "    print(i, end = \" \")\n",
    "multiplec(5) # checking that it is a generator object"
   ]
  },
  {
   "cell_type": "markdown",
   "id": "aaf1c05d",
   "metadata": {},
   "source": [
    "### 2. Create a scenario where the following errors are handled:"
   ]
  },
  {
   "cell_type": "markdown",
   "id": "5edcf21a",
   "metadata": {},
   "source": [
    "a. Custom Error implemented using class"
   ]
  },
  {
   "cell_type": "markdown",
   "id": "659c5b2a",
   "metadata": {},
   "source": [
    "b. Custom Error using Exception or BaseException class using message to handle at least two of the cases.\n"
   ]
  },
  {
   "cell_type": "markdown",
   "id": "8aaa6e7e",
   "metadata": {},
   "source": [
    "c. The full-fledged case for exception handling using try, except, else, finally"
   ]
  },
  {
   "cell_type": "code",
   "execution_count": 20,
   "id": "c08edf89",
   "metadata": {},
   "outputs": [
    {
     "name": "stdout",
     "output_type": "stream",
     "text": [
      "calling str\n"
     ]
    },
    {
     "ename": "CustomError",
     "evalue": "CustomError, We have a problem ",
     "output_type": "error",
     "traceback": [
      "\u001b[1;31m---------------------------------------------------------------------------\u001b[0m",
      "\u001b[1;31mCustomError\u001b[0m                               Traceback (most recent call last)",
      "\u001b[1;32m<ipython-input-20-ff91c2cbd864>\u001b[0m in \u001b[0;36m<module>\u001b[1;34m\u001b[0m\n\u001b[0;32m     15\u001b[0m \u001b[1;33m\u001b[0m\u001b[0m\n\u001b[0;32m     16\u001b[0m \u001b[1;33m\u001b[0m\u001b[0m\n\u001b[1;32m---> 17\u001b[1;33m \u001b[1;32mraise\u001b[0m \u001b[0mCustomError\u001b[0m\u001b[1;33m(\u001b[0m\u001b[1;34m'We have a problem'\u001b[0m\u001b[1;33m)\u001b[0m\u001b[1;33m\u001b[0m\u001b[1;33m\u001b[0m\u001b[0m\n\u001b[0m",
      "\u001b[1;31mCustomError\u001b[0m: CustomError, We have a problem "
     ]
    },
    {
     "name": "stdout",
     "output_type": "stream",
     "text": [
      "calling str\n",
      "calling str\n"
     ]
    }
   ],
   "source": [
    "# Custom Error implemented using class\n",
    "class CustomError(Exception):\n",
    "    def __init__(self, *args):\n",
    "        if args:\n",
    "            self.message = args[0]\n",
    "        else:\n",
    "            self.message = None\n",
    "\n",
    "    def __str__(self):\n",
    "        print('calling str')\n",
    "        if self.message:\n",
    "            return 'CustomError, {0} '.format(self.message)\n",
    "        else:\n",
    "            return 'CustomError has been raised'\n",
    "\n",
    "\n",
    "\n",
    "raise CustomError('We have a problem')"
   ]
  },
  {
   "cell_type": "code",
   "execution_count": 22,
   "id": "0847ceb2",
   "metadata": {},
   "outputs": [
    {
     "name": "stdout",
     "output_type": "stream",
     "text": [
      "Enter the year of Birth 2010\n",
      "The age is not within the range. You cannot apply for the exams\n"
     ]
    }
   ],
   "source": [
    "#Custom Error using Exception or BaseException class using message to handle at least two of the cases.\n",
    "class Error(Exception):\n",
    "    pass\n",
    "\n",
    "class dobException(Error):\n",
    "    pass\n",
    "\n",
    "class customgeneric(Error):\n",
    "    pass\n",
    "year=int(input(\"Enter the year of Birth \"))\n",
    "age=2021-year\n",
    "try:\n",
    "    if age<=30 & age>20:\n",
    "        print(\"The age is valid. You can apply for the exams\")\n",
    "    else:\n",
    "        raise dobException\n",
    "except dobException:\n",
    "    print(\"The age is not within the range. You cannot apply for the exams\")"
   ]
  },
  {
   "cell_type": "code",
   "execution_count": 24,
   "id": "88fdfff6",
   "metadata": {},
   "outputs": [
    {
     "name": "stdout",
     "output_type": "stream",
     "text": [
      "Enter the number 1 1\n",
      "Enter the number 2 2\n",
      "0.5\n",
      "The execution is done\n"
     ]
    }
   ],
   "source": [
    "#The full-fledged case for exception handling using try, except, else, finally\n",
    "try:\n",
    "    ##code block where exception can occur\n",
    "    a=int(input(\"Enter the number 1 \"))\n",
    "    b=int(input(\"Enter the number 2 \"))\n",
    "    c=a/b\n",
    "    \n",
    "except NameError:\n",
    "    print(\"The user have not defined the variable\")\n",
    "except ZeroDivisionError:\n",
    "    print(\"Please provide number greater than 0\")\n",
    "except TypeError:\n",
    "    print(\"Try to make the datatype similar\")\n",
    "except Exception as ex:\n",
    "    print(ex)\n",
    "else:\n",
    "    print(c)\n",
    "finally:\n",
    "    print(\"The execution is done\")"
   ]
  },
  {
   "cell_type": "markdown",
   "id": "c7099228",
   "metadata": {},
   "source": [
    "### 3. Create at least 4 classes having semantic meaning (having relation to each other) so that multiple inheritance can be achieved and incorporating the following things in some of them:\n"
   ]
  },
  {
   "cell_type": "markdown",
   "id": "64578274",
   "metadata": {},
   "source": [
    "@classmethod \n",
    "@staticmethod\n",
    "@property and setter for it\n",
    "Class_variable\n"
   ]
  },
  {
   "cell_type": "code",
   "execution_count": 54,
   "id": "82e2878f",
   "metadata": {},
   "outputs": [
    {
     "name": "stdout",
     "output_type": "stream",
     "text": [
      "San model is 2\n",
      "False\n",
      "4\n"
     ]
    }
   ],
   "source": [
    "class Car():\n",
    "    def __init__(self, name, model):\n",
    "        self.name = name\n",
    "        self.model = model\n",
    "    def __str__(dsf):\n",
    "        return f\"{dsf.name} model is {dsf.model}\"\n",
    "    @classmethod \n",
    "    def Benz(cls, string):\n",
    "        name,model = string.split(',')\n",
    "        model=int(model)\n",
    "        return cls(name,model)\n",
    "class Bike():\n",
    "    def __init__(self, name, model):\n",
    "        self.name = name\n",
    "        self.model = model\n",
    "    @staticmethod\n",
    "    def isSuperBike(model):\n",
    "        return model>10\n",
    "class Bus():\n",
    "    def __init__(self, name, model):\n",
    "        self.name = name\n",
    "        self.model = model\n",
    "    def set_model(self, value):\n",
    "        self._model = value\n",
    "class Truck():\n",
    "    def __init__(self, name=\"Eicher\", model=10):\n",
    "        self.name = name\n",
    "        self.model = model\n",
    "    @property\n",
    "    def model(self):\n",
    "        return self._model\n",
    "    @model.setter\n",
    "    def model(self, value):\n",
    "        self._model = value\n",
    "class Plane():\n",
    "    def Indigo(self):\n",
    "        print(\" This is a Indigo plane \")\n",
    "class Transport(Car,Bike,Bus,Truck,Plane):\n",
    "    def Main(self):\n",
    "        print(\"This is the Main Class\")\n",
    "B=Transport(\"san\",22)\n",
    "print(B.Benz(\"San,2\"))\n",
    "print(B.isSuperBike(2))\n",
    "B.set_model(4)\n",
    "print(B.model)\n",
    "\n",
    "\n"
   ]
  },
  {
   "cell_type": "markdown",
   "id": "3ad2bfe5",
   "metadata": {},
   "source": [
    "### 4. Create a class for complex number implementing all the arithmetic operations and relational operations related dunder methods. Eg. __add__, __iadd__, __mult__, __eq__, __lt__, …\n"
   ]
  },
  {
   "cell_type": "code",
   "execution_count": 121,
   "id": "ba8823f3",
   "metadata": {},
   "outputs": [],
   "source": [
    "class Number():\n",
    "    def __init__(self, n1):\n",
    "        self.n1 = n1\n",
    "    #dunder method for add\n",
    "    def __add__(self, other):\n",
    "        return self.n1 + other.n1\n",
    "    def __mult__(self, other):\n",
    "        return self.n1 + other.n1 + other.n1\n",
    "    def __iadd__(self, other):\n",
    "        self.n1 = self + other\n",
    "        return self.n1\n",
    "    def __eq__(self, other):\n",
    "        return self.n1 == other.n1\n",
    "    def __lt__(self, other):\n",
    "        n1=self.n1*12\n",
    "        n2=other.n1*12\n",
    "        if n1<n2:\n",
    "            return \"first object smaller than other\"\n",
    "        else:\n",
    "            return \"first object not smaller than other\"\n",
    "\n",
    "    "
   ]
  },
  {
   "cell_type": "code",
   "execution_count": 122,
   "id": "729073d1",
   "metadata": {},
   "outputs": [],
   "source": [
    "x = Number(1)\n",
    "y = Number(2)"
   ]
  },
  {
   "cell_type": "code",
   "execution_count": 124,
   "id": "7b0fc499",
   "metadata": {},
   "outputs": [
    {
     "name": "stdout",
     "output_type": "stream",
     "text": [
      "7\n",
      "5\n",
      "False\n",
      "first object smaller than other\n"
     ]
    }
   ],
   "source": [
    "print(x.__mult__(y))\n",
    "print(x.__iadd__(y))\n",
    "print(x.__eq__(y))\n",
    "print(y.__lt__(x))"
   ]
  },
  {
   "cell_type": "code",
   "execution_count": null,
   "id": "1d4c5e73",
   "metadata": {},
   "outputs": [],
   "source": []
  }
 ],
 "metadata": {
  "kernelspec": {
   "display_name": "Python 3",
   "language": "python",
   "name": "python3"
  },
  "language_info": {
   "codemirror_mode": {
    "name": "ipython",
    "version": 3
   },
   "file_extension": ".py",
   "mimetype": "text/x-python",
   "name": "python",
   "nbconvert_exporter": "python",
   "pygments_lexer": "ipython3",
   "version": "3.8.8"
  }
 },
 "nbformat": 4,
 "nbformat_minor": 5
}
